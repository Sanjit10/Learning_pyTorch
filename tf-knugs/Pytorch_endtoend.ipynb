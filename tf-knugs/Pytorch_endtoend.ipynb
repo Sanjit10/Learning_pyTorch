{
 "cells": [
  {
   "cell_type": "code",
   "execution_count": 22,
   "metadata": {},
   "outputs": [
    {
     "name": "stdout",
     "output_type": "stream",
     "text": [
      "NVIDIA GeForce GTX 1660 Ti\n",
      "Wed Nov  8 06:51:40 2023       \n",
      "+---------------------------------------------------------------------------------------+\n",
      "| NVIDIA-SMI 545.23.05              Driver Version: 545.84       CUDA Version: 12.3     |\n",
      "|-----------------------------------------+----------------------+----------------------+\n",
      "| GPU  Name                 Persistence-M | Bus-Id        Disp.A | Volatile Uncorr. ECC |\n",
      "| Fan  Temp   Perf          Pwr:Usage/Cap |         Memory-Usage | GPU-Util  Compute M. |\n",
      "|                                         |                      |               MIG M. |\n",
      "|=========================================+======================+======================|\n",
      "|   0  NVIDIA GeForce GTX 1660 Ti     On  | 00000000:01:00.0  On |                  N/A |\n",
      "| N/A   39C    P8               3W /  80W |     89MiB /  6144MiB |     16%      Default |\n",
      "|                                         |                      |                  N/A |\n",
      "+-----------------------------------------+----------------------+----------------------+\n",
      "                                                                                         \n",
      "+---------------------------------------------------------------------------------------+\n",
      "| Processes:                                                                            |\n",
      "|  GPU   GI   CI        PID   Type   Process name                            GPU Memory |\n",
      "|        ID   ID                                                             Usage      |\n",
      "|=======================================================================================|\n",
      "|    0   N/A  N/A        33      G   /Xwayland                                 N/A      |\n",
      "|    0   N/A  N/A        34      G   /Xwayland                                 N/A      |\n",
      "|    0   N/A  N/A       295      G   /Xwayland                                 N/A      |\n",
      "+---------------------------------------------------------------------------------------+\n"
     ]
    }
   ],
   "source": [
    "import torch\n",
    "from torch import nn # nn contains bsic building blocks of a computational graph or neural network\n",
    "import matplotlib.pyplot as plt\n",
    "import numpy as np\n",
    "\n",
    "#Check pytorch version\n",
    "torch.__version__,torch.cuda.is_available()\n",
    "\n",
    "#make the code device agnostic\n",
    "\n",
    "device = torch.device(\"cuda\" if torch.cuda.is_available() else \"cpu\")\n",
    "\n",
    "if device.type == 'cuda':\n",
    "    print(torch.cuda.get_device_name(0))\n",
    "    !nvidia-smi"
   ]
  },
  {
   "cell_type": "markdown",
   "metadata": {},
   "source": [
    "## Data (Preparing and Loading data tutorial)"
   ]
  },
  {
   "cell_type": "markdown",
   "metadata": {},
   "source": [
    "Data can be almost anything in machine learning.\n"
   ]
  },
  {
   "cell_type": "markdown",
   "metadata": {},
   "source": [
    "Machine learning is a game of two parts\n",
    "1. Changing the data into a form that the computer can understand i.e. numerical data\n",
    "2. Creating a model that can learn from the data\n",
    "\n",
    "Here we will learn to conver our data to numerical representation\n",
    "\n",
    "To showcase this, lets create some known data using linear regression equation"
   ]
  },
  {
   "cell_type": "code",
   "execution_count": 2,
   "metadata": {},
   "outputs": [
    {
     "name": "stdout",
     "output_type": "stream",
     "text": [
      "tensor([[0.0000],\n",
      "        [0.0200],\n",
      "        [0.0400],\n",
      "        [0.0600],\n",
      "        [0.0800],\n",
      "        [0.1000],\n",
      "        [0.1200],\n",
      "        [0.1400],\n",
      "        [0.1600],\n",
      "        [0.1800]])\n",
      "tensor([[0.3031],\n",
      "        [0.3304],\n",
      "        [0.3659],\n",
      "        [0.4237],\n",
      "        [0.4368],\n",
      "        [0.4621],\n",
      "        [0.4735],\n",
      "        [0.4530],\n",
      "        [0.4569],\n",
      "        [0.4802]])\n"
     ]
    }
   ],
   "source": [
    "# Create *known* parameters\n",
    "\n",
    "weight = 0.7\n",
    "bias = 0.3\n",
    "\n",
    "# Create data\n",
    "\n",
    "start = 0\n",
    "end = 1\n",
    "step = .02\n",
    "X = torch.arange(start,end,step).unsqueeze(1)\n",
    "y = weight*X+bias+torch.rand(X.size())*0.1\n",
    "\n",
    "print(X[:10])\n",
    "print(y[:10])\n"
   ]
  },
  {
   "cell_type": "code",
   "execution_count": 3,
   "metadata": {},
   "outputs": [
    {
     "data": {
      "text/plain": [
       "(50, 50)"
      ]
     },
     "execution_count": 3,
     "metadata": {},
     "output_type": "execute_result"
    }
   ],
   "source": [
    "\n",
    "len(X), len(y)"
   ]
  },
  {
   "cell_type": "markdown",
   "metadata": {},
   "source": [
    "## Splitting data into training adn test sets (one of the most impoertant concepts)\n",
    "\n",
    "Lets first split our data to create a training and test set with our data"
   ]
  },
  {
   "cell_type": "code",
   "execution_count": 4,
   "metadata": {},
   "outputs": [
    {
     "name": "stdout",
     "output_type": "stream",
     "text": [
      "40 40\n",
      "10 10\n"
     ]
    }
   ],
   "source": [
    "train_split = int(.8*len(X))\n",
    "X_train = X[:train_split]   # 80% of the data # :train_split means from 0 to train_split\n",
    "y_train = y[:train_split]   # 80% of the data\n",
    "\n",
    "X_test = X[train_split:]    # 20% of the data # train_split: means from train_split to the end\n",
    "y_test = y[train_split:]    # 20% of the data\n",
    "\n",
    "print(len(X_train), len(y_train))\n",
    "print(len(X_test), len(y_test))\n"
   ]
  },
  {
   "cell_type": "code",
   "execution_count": 5,
   "metadata": {},
   "outputs": [],
   "source": [
    "def plot_prediction(\n",
    "    X_train,y_train,\n",
    "    X_test,y_test,\n",
    "    X_pred=None,y_pred=None\n",
    "):\n",
    "    plt.plot(X_train.numpy(),y_train.numpy(),'ro')\n",
    "    plt.plot(X_test.numpy(),y_test.numpy(),'bo')\n",
    "    if X_pred is not None and y_pred is not None:\n",
    "        plt.plot(X_pred.numpy(),y_pred.numpy(),'go')\n",
    "    plt.legend(['Train','Test','Prediction'])\n",
    "    plt.show()"
   ]
  },
  {
   "cell_type": "code",
   "execution_count": 6,
   "metadata": {},
   "outputs": [
    {
     "data": {
      "image/png": "[encoded data removed]",
      "text/plain": [
       "<Figure size 640x480 with 1 Axes>"
      ]
     },
     "metadata": {},
     "output_type": "display_data"
    }
   ],
   "source": [
    "plot_prediction(X_train,y_train,X_test,y_test)"
   ]
  },
  {
   "cell_type": "code",
   "execution_count": 7,
   "metadata": {},
   "outputs": [],
   "source": [
    "## Create a model\n",
    "\n",
    "class LinearRegression(nn.Module): # nn.Module is the base class for all neural network modules\n",
    "    \"\"\"\n",
    "    This class implements a linear regression model\n",
    "    \"\"\"\n",
    "    def __init__(self): # Contructor method of the class\n",
    "        super().__init__()\n",
    "        self.weight = nn.Parameter(\n",
    "            torch.randn(\n",
    "                1,\n",
    "                requires_grad=True, # This parameter will be trained\n",
    "                dtype=torch.float32\n",
    "                )\n",
    "            )\n",
    "        self.bias = nn.Parameter(\n",
    "            torch.randn(\n",
    "                1,\n",
    "                requires_grad=True, # This parameter will be trained\n",
    "                dtype=torch.float32\n",
    "                )\n",
    "            )\n",
    "        # Parameter is a Tensor that's automatically\n",
    "        #registered as a parameter when assigned as an attribute to a Module.\n",
    "\n",
    "    def forward(self, x : torch.Tensor) -> torch.Tensor:\n",
    "        # Forward pass of the model\n",
    "        # This method is called when the model is called\n",
    "        return self.weight*x+self.bias # y = wx+b"
   ]
  },
  {
   "cell_type": "code",
   "execution_count": 8,
   "metadata": {},
   "outputs": [],
   "source": [
    "# Create a random seed for reproducibility\n",
    "\n",
    "torch.manual_seed(42)\n",
    "\n",
    "# Create an instance of the model\n",
    "\n",
    "model_0 = LinearRegression()"
   ]
  },
  {
   "cell_type": "code",
   "execution_count": 9,
   "metadata": {},
   "outputs": [
    {
     "data": {
      "text/plain": [
       "[Parameter containing:\n",
       " tensor([0.3367], requires_grad=True),\n",
       " Parameter containing:\n",
       " tensor([0.1288], requires_grad=True)]"
      ]
     },
     "execution_count": 9,
     "metadata": {},
     "output_type": "execute_result"
    }
   ],
   "source": [
    "#Check the model parameters\n",
    "\n",
    "list(model_0.parameters())"
   ]
  },
  {
   "cell_type": "code",
   "execution_count": 10,
   "metadata": {},
   "outputs": [
    {
     "data": {
      "text/plain": [
       "OrderedDict([('weight', tensor([0.3367])), ('bias', tensor([0.1288]))])"
      ]
     },
     "execution_count": 10,
     "metadata": {},
     "output_type": "execute_result"
    }
   ],
   "source": [
    "# List named parameters\n",
    "\n",
    "model_0.state_dict()"
   ]
  },
  {
   "cell_type": "markdown",
   "metadata": {},
   "source": [
    "### Making predictions using `torch.infrence_mode()`\n",
    "\n",
    "To check the power of our models exisitng predicting capabilities,\n",
    "lets see how well it predicts `y_test` nased on `X_test`\n",
    "\n",
    "When we pass data through our model, it's going to run it through `forward()` emthod\n"
   ]
  },
  {
   "cell_type": "code",
   "execution_count": 11,
   "metadata": {},
   "outputs": [
    {
     "data": {
      "image/png": "[encoded data removed]",
      "text/plain": [
       "<Figure size 640x480 with 1 Axes>"
      ]
     },
     "metadata": {},
     "output_type": "display_data"
    }
   ],
   "source": [
    "#Make predictions using models\n",
    "\n",
    "with torch.inference_mode():\n",
    "    y_pred = model_0(X_test)\n",
    "\n",
    "y_pred[:10]\n",
    "plot_prediction(X_train,y_train,X_test,y_test,X_test,y_pred)"
   ]
  },
  {
   "cell_type": "markdown",
   "metadata": {},
   "source": [
    "We use infrence mode as it stops the tracking of parameters "
   ]
  },
  {
   "cell_type": "markdown",
   "metadata": {},
   "source": [
    "### Training the model\n",
    "\n",
    "The whole idea of tarining is to change the paramters so that their predicitons fit the data\n",
    "\n",
    "One way of measuring how poor the models prediciton are to use loss fucntion\n",
    "\n",
    "* Note : Loss functions amy also be reffred to as cost or criterion fucntions.\n",
    "* Loss funcitons measure the diffrence between ideal output and model predictions. Lower the value better the predictions "
   ]
  },
  {
   "cell_type": "markdown",
   "metadata": {},
   "source": [
    "##### Things we need ot train a model\n",
    "* *#Loss function* : To quantize the prediction error of our model\n",
    "* *#Optimizer* : Takes intop account the loss of model to optimize the models parameters to improve the loss fucntion\n",
    "\n",
    "And specifically for pyTorch we need:\n",
    "* A training loop\n",
    "* A testing loop"
   ]
  },
  {
   "cell_type": "code",
   "execution_count": 12,
   "metadata": {},
   "outputs": [],
   "source": [
    "# Setting up a loss function\n",
    "loss_fn = nn.MSELoss()\n",
    "\n",
    "# Setting up an optimizer\n",
    "optimizer = torch.optim.SGD(model_0.parameters(),lr=.1)"
   ]
  },
  {
   "cell_type": "markdown",
   "metadata": {},
   "source": [
    "##### Build a training Loop\n",
    "\n",
    "A couple of things needed in training loop are:\n",
    " 1. Loop through the data\n",
    " 2. Forward pass (propagation)\n",
    " 3. Calculate the loss (compare forward pass predictions to ground truth labels)\n",
    " 4. Optimizer zero grad\n",
    " 5. Loss backward - (**BackPropagation**)\n",
    " 6. Optimizer step- use optimizer function to optimize parameters\n",
    " \n",
    " loop"
   ]
  },
  {
   "cell_type": "code",
   "execution_count": 13,
   "metadata": {},
   "outputs": [
    {
     "name": "stdout",
     "output_type": "stream",
     "text": [
      "Epoch:0 | Loss:0.1425 | Test Loss:0.1958\n",
      "Epoch:100 | Loss:0.0011 | Test Loss:0.0020\n",
      "Epoch:200 | Loss:0.0007 | Test Loss:0.0007\n",
      "Epoch:300 | Loss:0.0007 | Test Loss:0.0006\n",
      "Epoch:400 | Loss:0.0006 | Test Loss:0.0006\n"
     ]
    },
    {
     "data": {
      "image/png": "[encoded data removed]",
      "text/plain": [
       "<Figure size 640x480 with 1 Axes>"
      ]
     },
     "metadata": {},
     "output_type": "display_data"
    }
   ],
   "source": [
    "# An epoch is one loop through all of the data... (this is a hyperparameter)\n",
    "epochs = 500\n",
    "torch.manual_seed(42)\n",
    "\n",
    "#Tracking variables\n",
    "\n",
    "epoch_count = []\n",
    "loss_values = []\n",
    "test_loss_values = []\n",
    "\n",
    "#### Training loop ####\n",
    "\n",
    "# 0. Loop through data\n",
    "for epoch in range(epochs):\n",
    "    # 1. Set the model to training mode\n",
    "    model_0.train() # Training mode sets all parameters that requires gradient to True\n",
    "    epoch_count.append(epoch)\n",
    "    # 2. Forward pass\n",
    "    y_pred = model_0(X_train)\n",
    "\n",
    "    # 3. Calculate loss\n",
    "    loss = loss_fn(y_pred,y_train)\n",
    "    loss_values.append(loss.item())\n",
    "\n",
    "    # 4. Optimizer zero grad\n",
    "    optimizer.zero_grad()   # This is important to do before the backward pass\n",
    "                            # because PyTorch accumulates the gradients on subsequent backward passes\n",
    "                            # This is useful for RNNs and CNNs\n",
    "                            # But for linear regression we don't want to accumulate the gradients\n",
    "\n",
    "    # 5. Backward pass\n",
    "    loss.backward()\n",
    "\n",
    "    # 6. Update parameters\n",
    "    optimizer.step()\n",
    "\n",
    "# Test the model\n",
    "\n",
    "    model_0.eval() # Eval mode sets all parameters that requires gradient to False\n",
    "\n",
    "    with torch.inference_mode():\n",
    "        # make predictions\n",
    "        y_pred = model_0(X_test)\n",
    "\n",
    "        # calculate loss\n",
    "        test_loss = loss_fn(y_pred,y_test)\n",
    "        test_loss_values.append(test_loss.item())\n",
    "\n",
    "    if(epoch%100==0):\n",
    "        print(f\"Epoch:{epoch} | Loss:{loss.item():.4f} | Test Loss:{test_loss.item():.4f}\")\n",
    "\n",
    "plot_prediction(X_train,y_train,X_test,y_test,X_test,y_pred)\n"
   ]
  },
  {
   "cell_type": "code",
   "execution_count": 14,
   "metadata": {},
   "outputs": [
    {
     "data": {
      "text/plain": [
       "(OrderedDict([('weight', tensor([0.7053])), ('bias', tensor([0.3519]))]),\n",
       " 0.7,\n",
       " 0.3)"
      ]
     },
     "execution_count": 14,
     "metadata": {},
     "output_type": "execute_result"
    }
   ],
   "source": [
    "model_0.state_dict(),weight,bias"
   ]
  },
  {
   "cell_type": "code",
   "execution_count": 15,
   "metadata": {},
   "outputs": [
    {
     "name": "stdout",
     "output_type": "stream",
     "text": [
      "Weight: 0.7053, Bias: 0.3519\n",
      "Loss: 0.0006\n"
     ]
    }
   ],
   "source": [
    "# Print the model parameters, loss and accuracy in a tabular form\n",
    "\n",
    "print(f'Weight: {model_0.weight.item():.4f}, Bias: {model_0.bias.item():.4f}')\n",
    "print(f'Loss: {loss.item():.4f}')"
   ]
  },
  {
   "cell_type": "code",
   "execution_count": 16,
   "metadata": {},
   "outputs": [
    {
     "data": {
      "text/plain": [
       "([],\n",
       " [0.000642446510028094,\n",
       "  0.0006424398743547499,\n",
       "  0.0006424334715120494,\n",
       "  0.000642427068669349,\n",
       "  0.0006424206658266485,\n",
       "  0.0006424147868528962,\n",
       "  0.0006424086168408394,\n",
       "  0.0006424026796594262,\n",
       "  0.0006423970335163176,\n",
       "  0.0006423915037885308],\n",
       " [0.0006349737523123622,\n",
       "  0.000635145406704396,\n",
       "  0.0006353164790198207,\n",
       "  0.0006354848155751824,\n",
       "  0.0006356527446769178,\n",
       "  0.0006358191603794694,\n",
       "  0.0006359845283441246,\n",
       "  0.0006361472187563777,\n",
       "  0.00063631049124524,\n",
       "  0.0006364717846736312])"
      ]
     },
     "execution_count": 16,
     "metadata": {},
     "output_type": "execute_result"
    }
   ],
   "source": [
    "epoch_count[990:],loss_values[490:],test_loss_values[490:]"
   ]
  },
  {
   "cell_type": "code",
   "execution_count": 17,
   "metadata": {},
   "outputs": [
    {
     "data": {
      "text/plain": [
       "Text(0, 0.5, 'Loss')"
      ]
     },
     "execution_count": 17,
     "metadata": {},
     "output_type": "execute_result"
    },
    {
     "data": {
      "image/png": "[encoded data removed]",
      "text/plain": [
       "<Figure size 640x480 with 1 Axes>"
      ]
     },
     "metadata": {},
     "output_type": "display_data"
    }
   ],
   "source": [
    "# Plot the loss curve\n",
    "\n",
    "#change the value from pyTorch tensors to numpy arrays\n",
    "epoch_count = np.array(epoch_count)\n",
    "loss_values = np.array(loss_values)\n",
    "test_loss_values = np.array(test_loss_values)\n",
    "\n",
    "plt.plot(epoch_count,loss_values,'r--')\n",
    "plt.plot(epoch_count,test_loss_values,'b-')\n",
    "plt.legend(['Training Loss','Test Loss'])\n",
    "plt.xlabel('Epoch')\n",
    "plt.ylabel('Loss')\n"
   ]
  },
  {
   "cell_type": "markdown",
   "metadata": {},
   "source": [
    "#### Saving a model in pyTorch \n",
    "\n",
    "There are three main methods for saving and loading models:\n",
    " 1. `torch.save()` -allows you to save a PyTorch model in Pythons Pickel format\n",
    " 2. `torch.load()` -allows you to load a saved Pytorch model\n",
    " 3. `torch.nn.Module.load_state_dict()` - this allows to load a model's saved state dictonary"
   ]
  },
  {
   "cell_type": "code",
   "execution_count": 18,
   "metadata": {},
   "outputs": [
    {
     "data": {
      "text/plain": [
       "OrderedDict([('weight', tensor([0.7053])), ('bias', tensor([0.3519]))])"
      ]
     },
     "execution_count": 18,
     "metadata": {},
     "output_type": "execute_result"
    }
   ],
   "source": [
    "model_0.state_dict()"
   ]
  },
  {
   "cell_type": "code",
   "execution_count": 20,
   "metadata": {},
   "outputs": [],
   "source": [
    "# Saving the model\n",
    "\n",
    "from pathlib import Path\n",
    "\n",
    "# 1. Create models directory\n",
    "# Assuming '/tf-knugs/models' is a directory that's been mounted as a volume in the Docker container\n",
    "MODEL_PATH = Path('/tf-knugs/models/')\n",
    "MODEL_PATH.mkdir(parents=True, exist_ok=True)\n",
    "\n",
    "#2. Create a model save path\n",
    "MODEL_NAME = 'pytorch_end_to_end_linear_regression.pt'\n",
    "MODEL_SAVE_PATH = MODEL_PATH/MODEL_NAME\n",
    "\n",
    "#3. Save the model (save the state_dict)\n",
    "torch.save(model_0.state_dict(),MODEL_SAVE_PATH)"
   ]
  },
  {
   "cell_type": "code",
   "execution_count": 21,
   "metadata": {},
   "outputs": [
    {
     "data": {
      "image/png": "[encoded data removed]",
      "text/plain": [
       "<Figure size 640x480 with 1 Axes>"
      ]
     },
     "metadata": {},
     "output_type": "display_data"
    }
   ],
   "source": [
    "# Loading the module\n",
    "\n",
    "#1. Create a model instance\n",
    "model_1 = LinearRegression()\n",
    "\n",
    "#2. Load the state_dict\n",
    "model_1.load_state_dict(torch.load(MODEL_SAVE_PATH))\n",
    "\n",
    "#3. Set the model to inference mode\n",
    "model_1.eval()\n",
    "\n",
    "#4. Make predictions\n",
    "with torch.inference_mode():\n",
    "    y_pred = model_1(X_test)\n",
    "\n",
    "plot_prediction(X_train,y_train,X_test,y_test,X_test,y_pred)"
   ]
  },
  {
   "cell_type": "code",
   "execution_count": null,
   "metadata": {},
   "outputs": [],
   "source": []
  }
 ],
 "metadata": {
  "kernelspec": {
   "display_name": "Python 3",
   "language": "python",
   "name": "python3"
  },
  "language_info": {
   "codemirror_mode": {
    "name": "ipython",
    "version": 3
   },
   "file_extension": ".py",
   "mimetype": "text/x-python",
   "name": "python",
   "nbconvert_exporter": "python",
   "pygments_lexer": "ipython3",
   "version": "3.11.0rc1"
  }
 },
 "nbformat": 4,
 "nbformat_minor": 2
}
